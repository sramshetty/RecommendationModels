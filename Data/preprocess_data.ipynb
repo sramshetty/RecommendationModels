{
 "cells": [
  {
   "cell_type": "code",
   "execution_count": 11,
   "metadata": {},
   "outputs": [],
   "source": [
    "import pandas as pd\n",
    "import numpy as np\n",
    "import random\n",
    "import pickle\n",
    "import matplotlib.pyplot as plt\n",
    "import seaborn as sns\n",
    "from datetime import datetime\n",
    "import time"
   ]
  },
  {
   "cell_type": "code",
   "execution_count": 48,
   "metadata": {},
   "outputs": [],
   "source": [
    "data_file = \"amazon_movie.pickle\"\n",
    "movie_df = pd.read_pickle(data_file)"
   ]
  },
  {
   "cell_type": "code",
   "execution_count": 49,
   "metadata": {},
   "outputs": [
    {
     "data": {
      "text/plain": [
       "1274745600.0"
      ]
     },
     "execution_count": 49,
     "metadata": {},
     "output_type": "execute_result"
    }
   ],
   "source": [
    "time.mktime(datetime.strptime(time_list[0], \"%Y-%m-%d %H:%M:%S\").timetuple())"
   ]
  },
  {
   "cell_type": "code",
   "execution_count": 50,
   "metadata": {},
   "outputs": [
    {
     "data": {
      "text/plain": [
       "'2010-05-24 20:00:00'"
      ]
     },
     "execution_count": 50,
     "metadata": {},
     "output_type": "execute_result"
    }
   ],
   "source": [
    "time_list[0]"
   ]
  },
  {
   "cell_type": "code",
   "execution_count": 51,
   "metadata": {},
   "outputs": [],
   "source": [
    "time_list = movie_df.timestamp.tolist()\n",
    "unix_time_list = [time.mktime(datetime.strptime(i,\"%Y-%m-%d %H:%M:%S\").timetuple()) for i in time_list]"
   ]
  },
  {
   "cell_type": "code",
   "execution_count": 52,
   "metadata": {},
   "outputs": [
    {
     "data": {
      "text/plain": [
       "1274745600.0"
      ]
     },
     "execution_count": 52,
     "metadata": {},
     "output_type": "execute_result"
    }
   ],
   "source": [
    "unix_time_list[0]"
   ]
  },
  {
   "cell_type": "code",
   "execution_count": 53,
   "metadata": {},
   "outputs": [],
   "source": [
    "movie_df[\"unixtime\"] = unix_time_list"
   ]
  },
  {
   "cell_type": "code",
   "execution_count": 54,
   "metadata": {},
   "outputs": [],
   "source": [
    "# sorted_df[\"unixtime\"] = sorted_df.timestamp\n",
    "sorted_df = movie_df.sort_values(by='unixtime', ascending=True)"
   ]
  },
  {
   "cell_type": "code",
   "execution_count": 55,
   "metadata": {},
   "outputs": [],
   "source": [
    "timestamp_count_list = list(sorted_df.groupby('unixtime').size().to_dict().values())"
   ]
  },
  {
   "cell_type": "code",
   "execution_count": 56,
   "metadata": {},
   "outputs": [],
   "source": [
    "cum_timestamp_count_list = np.cumsum(timestamp_count_list)\n",
    "normalize_cum_list = cum_timestamp_count_list/cum_timestamp_count_list[-1]"
   ]
  },
  {
   "cell_type": "code",
   "execution_count": 57,
   "metadata": {},
   "outputs": [],
   "source": [
    "x = [i for i in range(len(normalize_cum_list))]\n",
    "x_time = list(sorted_df.groupby('unixtime').size().to_dict().keys())"
   ]
  },
  {
   "cell_type": "code",
   "execution_count": null,
   "metadata": {},
   "outputs": [],
   "source": []
  },
  {
   "cell_type": "code",
   "execution_count": 58,
   "metadata": {},
   "outputs": [
    {
     "data": {
      "text/plain": [
       "[<matplotlib.lines.Line2D at 0x7f6f0da5beb8>]"
      ]
     },
     "execution_count": 58,
     "metadata": {},
     "output_type": "execute_result"
    },
    {
     "data": {
      "image/png": "[encoded data removed]",
      "text/plain": [
       "<Figure size 432x288 with 1 Axes>"
      ]
     },
     "metadata": {
      "needs_background": "light"
     },
     "output_type": "display_data"
    }
   ],
   "source": [
    "plt.plot(x_time, normalize_cum_list)"
   ]
  },
  {
   "cell_type": "code",
   "execution_count": 59,
   "metadata": {},
   "outputs": [
    {
     "name": "stdout",
     "output_type": "stream",
     "text": [
      "train_action_threshold_index 800000\n",
      "valid_action_threshold_index 900000\n"
     ]
    }
   ],
   "source": [
    "action_num = len(sorted_df)\n",
    "train_action_threshold_index = int(action_num*0.8)\n",
    "valid_action_threshold_index = int(action_num*0.9)\n",
    "print(\"train_action_threshold_index\", train_action_threshold_index)\n",
    "print(\"valid_action_threshold_index\", valid_action_threshold_index)"
   ]
  },
  {
   "cell_type": "code",
   "execution_count": 62,
   "metadata": {},
   "outputs": [
    {
     "name": "stdout",
     "output_type": "stream",
     "text": [
      "train_time_threshold 1296000000.0\n",
      "valid_time_threshold 1326499200.0\n"
     ]
    }
   ],
   "source": [
    "train_time_threshold = sorted_df.iloc[train_action_threshold_index].unixtime\n",
    "valid_time_threshold = sorted_df.iloc[valid_action_threshold_index].unixtime\n",
    "print(\"train_time_threshold\", train_time_threshold)\n",
    "print(\"valid_time_threshold\", valid_time_threshold)"
   ]
  },
  {
   "cell_type": "code",
   "execution_count": 63,
   "metadata": {},
   "outputs": [
    {
     "name": "stdout",
     "output_type": "stream",
     "text": [
      "train num (800140, 4)\n",
      "valid num (100047, 4)\n",
      "test num (99814, 4)\n"
     ]
    }
   ],
   "source": [
    "train_df = sorted_df[sorted_df.unixtime <= train_time_threshold]\n",
    "valid_test_df = sorted_df[sorted_df.unixtime > train_time_threshold]\n",
    "valid_df = valid_test_df[valid_test_df.unixtime <= valid_time_threshold]\n",
    "test_df = valid_test_df[valid_test_df.unixtime > valid_time_threshold]\n",
    "print(\"train num\", train_df.shape)\n",
    "print(\"valid num\", valid_df.shape)\n",
    "print(\"test num\", test_df.shape)"
   ]
  },
  {
   "cell_type": "code",
   "execution_count": 64,
   "metadata": {},
   "outputs": [
    {
     "name": "stdout",
     "output_type": "stream",
     "text": [
      "remove item num 19945 0.7223831944947483\n",
      "before filtering item num 27610\n",
      "after filtering itemnum 7665\n"
     ]
    }
   ],
   "source": [
    "remove_item_list = []\n",
    "item_freq_map = train_df['itemid'].value_counts()\n",
    "for item, freq in item_freq_map.items():\n",
    "    if freq < 20:\n",
    "        remove_item_list.append(item)\n",
    "remove_item_num = len(remove_item_list)\n",
    "print(\"remove item num\", remove_item_num, remove_item_num*1.0/len(item_freq_map.keys()))\n",
    "print(\"before filtering item num\", train_df.itemid.nunique())\n",
    "train_df = train_df[~train_df.itemid.isin(remove_item_list)]\n",
    "print(\"after filtering itemnum\", train_df.itemid.nunique())"
   ]
  },
  {
   "cell_type": "code",
   "execution_count": 65,
   "metadata": {},
   "outputs": [
    {
     "name": "stdout",
     "output_type": "stream",
     "text": [
      "filter user actions >=300 78\n",
      "filter user actions <= 20 221507\n",
      "filter user num 221585\n"
     ]
    }
   ],
   "source": [
    "user_freq_map = train_df.userid.value_counts()\n",
    "filter_users_num_total = 0\n",
    "\n",
    "filter_users = user_freq_map[user_freq_map>=300].index\n",
    "filter_users_num = len(filter_users)\n",
    "print(\"filter user actions >=300\", filter_users_num)\n",
    "filter_users_num_total += filter_users_num\n",
    "\n",
    "train_df = train_df[~train_df.userid.isin(filter_users)]\n",
    "\n",
    "filter_users = user_freq_map[user_freq_map<=20].index\n",
    "filter_users_num = len(filter_users)\n",
    "print(\"filter user actions <= 20\", filter_users_num)\n",
    "filter_users_num_total += filter_users_num\n",
    "\n",
    "train_df = train_df[~train_df.userid.isin(filter_users)]\n",
    "\n",
    "print(\"filter user num\", filter_users_num_total)"
   ]
  },
  {
   "cell_type": "code",
   "execution_count": 66,
   "metadata": {},
   "outputs": [
    {
     "name": "stdout",
     "output_type": "stream",
     "text": [
      "unique item num 7387\n",
      "total action num 169175\n",
      "action num per item 22.901719236496547\n"
     ]
    }
   ],
   "source": [
    "unique_item_num = train_df.itemid.nunique()\n",
    "total_action_num = train_df.shape[0]\n",
    "print(\"unique item num\", unique_item_num)\n",
    "print(\"total action num\", total_action_num)\n",
    "print(\"action num per item\", total_action_num*1.0/unique_item_num)"
   ]
  },
  {
   "cell_type": "code",
   "execution_count": 67,
   "metadata": {},
   "outputs": [
    {
     "name": "stdout",
     "output_type": "stream",
     "text": [
      "unique user num 3113\n",
      "total action num 169175\n",
      "action num per user 54.34468358496627\n"
     ]
    }
   ],
   "source": [
    "unique_user_num = train_df.userid.nunique()\n",
    "total_action_num = train_df.shape[0]\n",
    "print(\"unique user num\", unique_user_num)\n",
    "print(\"total action num\", total_action_num)\n",
    "print(\"action num per user\", total_action_num*1.0/unique_user_num)"
   ]
  },
  {
   "cell_type": "code",
   "execution_count": 68,
   "metadata": {},
   "outputs": [],
   "source": [
    "train_userid_list = train_df.userid.unique()\n",
    "train_df = train_df[train_df.userid.isin(train_userid_list)]\n",
    "valid_df = valid_df[valid_df.userid.isin(train_userid_list)]\n",
    "test_df = test_df[test_df.userid.isin(train_userid_list)]"
   ]
  },
  {
   "cell_type": "code",
   "execution_count": 69,
   "metadata": {},
   "outputs": [],
   "source": [
    "train_itemid_list = train_df.itemid.unique()\n",
    "train_df = train_df[train_df.itemid.isin(train_itemid_list)]\n",
    "valid_df = valid_df[valid_df.itemid.isin(train_itemid_list)]\n",
    "test_df = test_df[test_df.itemid.isin(train_itemid_list)]"
   ]
  },
  {
   "cell_type": "code",
   "execution_count": 70,
   "metadata": {},
   "outputs": [
    {
     "name": "stdout",
     "output_type": "stream",
     "text": [
      "action num (177218, 4)\n"
     ]
    }
   ],
   "source": [
    "sorted_df = pd.concat([train_df, valid_df, test_df])\n",
    "print(\"action num\", sorted_df.shape)"
   ]
  },
  {
   "cell_type": "code",
   "execution_count": 46,
   "metadata": {},
   "outputs": [],
   "source": []
  },
  {
   "cell_type": "code",
   "execution_count": 72,
   "metadata": {},
   "outputs": [],
   "source": [
    "sorted_df = sorted_df.sort_values(by=['userid', 'unixtime'], ascending=[True, True])"
   ]
  },
  {
   "cell_type": "code",
   "execution_count": 100,
   "metadata": {},
   "outputs": [
    {
     "data": {
      "text/plain": [
       "array(['A100JCBNALJFAW', 'A102B8D74H64TO', 'A103KNDW8GN92L',\n",
       "       'A103QX7NUHBOUF', 'A103W7ZPKGOCC9', 'A106016KSI0YQ',\n",
       "       'A10872FHIJAKKD', 'A108A421PC6MH3', 'A109LWN9DUGPDP',\n",
       "       'A10C2SBALDLKU9', 'A10C3IAZUXZ705', 'A10C5CJK1YKGV0',\n",
       "       'A10CJINP7KBR4W', 'A10DB0H2NZF11E', 'A10E3F50DIUJEE',\n",
       "       'A10G4BPT5MGBHY', 'A10HHM2684NZD2', 'A10HMPPHWI3V0A',\n",
       "       'A10JDPEQ8GJ2K1', 'A10L8O1ZMUIMR2', 'A10Q8NIFOVOHFV',\n",
       "       'A10QUKLNY6C3GC', 'A10VNTUCKHAAIH', 'A10WXN0EFSKHZJ',\n",
       "       'A10X0JN8KTK89H', 'A10ZE8HITPZ503', 'A111A7GRI52BL6',\n",
       "       'A1129LM24YWSZV', 'A113YU3OXKSKQU', 'A1183FKPBWTLYL',\n",
       "       'A11A8GWG0IXBZH', 'A11BCJJG91KVOY', 'A11C43I615R52G',\n",
       "       'A11ED8O95W2103', 'A11H85UYL2R4KX', 'A11KRMIA0ES88I',\n",
       "       'A11L5M4MJP00UW', 'A11MNKGD2VLZOB', 'A11RBPGTVNBIBS',\n",
       "       'A11SPSEM08VIXX', 'A11VG3IJIMJXGV', 'A11XKY4EIU2KNR',\n",
       "       'A11YV6VC51HJTV', 'A120GIT50UISJP', 'A123FC8GL7US1O',\n",
       "       'A1241U6QCSX5YJ', 'A125MB4R88JZ5U', 'A129YBX5BVNW2',\n",
       "       'A12A8LU93A132U', 'A12ANFNOSMW5VD', 'A12BDTTYJ43EQW',\n",
       "       'A12C18HFVKW1L5', 'A12CA5QUL1NJHT', 'A12CBUR8QGQ5UP',\n",
       "       'A12FLZREV32JOP', 'A12IDQSS4OW33B', 'A12IQ99MWM9YQ8',\n",
       "       'A12IRGQLFE4EBA', 'A12N6XUM5ZYLXG', 'A12RCVRE3T6L8Y',\n",
       "       'A12RMAJXRPQWTY', 'A12X2J7AVZ04IQ', 'A130KZO1FFDTP8',\n",
       "       'A1345VRK5MYG7', 'A136MAOWGCU2C2', 'A137M6SALI64A1',\n",
       "       'A138826JMC0J3T', 'A13910TC3NZ6LE', 'A139ZF7CJVVTJU',\n",
       "       'A13BLSXL78EMRX', 'A13D1WTFEMS9VH', 'A13D4E28S63SYF',\n",
       "       'A13DQTXG02HZC1', 'A13F2IV3ME23R', 'A13FBTZ8SO8T3D',\n",
       "       'A13H2JJ3GEMJN1', 'A13H7Q4JVK6DTV', 'A13IJSSLR27SU',\n",
       "       'A13KXWTN0DT878', 'A13LU15OCKJXM7', 'A13NZZR8IA5782',\n",
       "       'A13OMT8D4GPIBV', 'A13PFY3KRKHY1P', 'A13Q6DZC1WZ9K6',\n",
       "       'A13QNGUB9IYTY4', 'A13RM1AWD1C5ZR', 'A13RYFCGR7AM7E',\n",
       "       'A13STKDYQO5DQ8', 'A13TO1ZFAH9SVN', 'A13UAIE3K517CQ',\n",
       "       'A13WK0568LZNL0', 'A13WV30Q6SC02Q', 'A140XH16IKR4B0',\n",
       "       'A1435P5AMCPB3X', 'A143O79A5RFJV7', 'A143P0NKQDNWYL',\n",
       "       'A145EDBZDAYY7L', 'A146D2LYLICNLS', 'A146H6A41B26QT',\n",
       "       'A14ABGEOVOTDX1'], dtype=object)"
      ]
     },
     "execution_count": 100,
     "metadata": {},
     "output_type": "execute_result"
    }
   ],
   "source": [
    "sorted_df.userid.unique()[:100]"
   ]
  },
  {
   "cell_type": "code",
   "execution_count": 101,
   "metadata": {},
   "outputs": [],
   "source": [
    "item_list_0 = sorted_df[sorted_df.userid==\"A10X0JN8KTK89H\"].itemid.tolist()"
   ]
  },
  {
   "cell_type": "code",
   "execution_count": 106,
   "metadata": {},
   "outputs": [],
   "source": [
    "item_list_1 = sorted_df[sorted_df.userid==\"A13RM1AWD1C5ZR\"].itemid.tolist()"
   ]
  },
  {
   "cell_type": "code",
   "execution_count": 107,
   "metadata": {},
   "outputs": [
    {
     "data": {
      "text/plain": [
       "{'B0002NIAZW', 'B0007QS21G', 'B000VDDWE2', 'B001RALGBO'}"
      ]
     },
     "execution_count": 107,
     "metadata": {},
     "output_type": "execute_result"
    }
   ],
   "source": [
    "set(item_list_0).intersection(set(item_list_1))"
   ]
  },
  {
   "cell_type": "code",
   "execution_count": 108,
   "metadata": {},
   "outputs": [
    {
     "data": {
      "text/html": [
       "<div>\n",
       "<style scoped>\n",
       "    .dataframe tbody tr th:only-of-type {\n",
       "        vertical-align: middle;\n",
       "    }\n",
       "\n",
       "    .dataframe tbody tr th {\n",
       "        vertical-align: top;\n",
       "    }\n",
       "\n",
       "    .dataframe thead th {\n",
       "        text-align: right;\n",
       "    }\n",
       "</style>\n",
       "<table border=\"1\" class=\"dataframe\">\n",
       "  <thead>\n",
       "    <tr style=\"text-align: right;\">\n",
       "      <th></th>\n",
       "      <th>userid</th>\n",
       "      <th>itemid</th>\n",
       "      <th>timestamp</th>\n",
       "      <th>unixtime</th>\n",
       "    </tr>\n",
       "  </thead>\n",
       "  <tbody>\n",
       "    <tr>\n",
       "      <th>38464</th>\n",
       "      <td>A10X0JN8KTK89H</td>\n",
       "      <td>0790701251</td>\n",
       "      <td>2006-03-01 19:00:00</td>\n",
       "      <td>1.141258e+09</td>\n",
       "    </tr>\n",
       "    <tr>\n",
       "      <th>52826</th>\n",
       "      <td>A10X0JN8KTK89H</td>\n",
       "      <td>6304198493</td>\n",
       "      <td>2006-03-01 19:00:00</td>\n",
       "      <td>1.141258e+09</td>\n",
       "    </tr>\n",
       "    <tr>\n",
       "      <th>75423</th>\n",
       "      <td>A10X0JN8KTK89H</td>\n",
       "      <td>B000065MQO</td>\n",
       "      <td>2006-03-01 19:00:00</td>\n",
       "      <td>1.141258e+09</td>\n",
       "    </tr>\n",
       "    <tr>\n",
       "      <th>89056</th>\n",
       "      <td>A10X0JN8KTK89H</td>\n",
       "      <td>B000HOMU98</td>\n",
       "      <td>2006-03-01 19:00:00</td>\n",
       "      <td>1.141258e+09</td>\n",
       "    </tr>\n",
       "    <tr>\n",
       "      <th>241733</th>\n",
       "      <td>A10X0JN8KTK89H</td>\n",
       "      <td>B00000J2KT</td>\n",
       "      <td>2006-03-01 19:00:00</td>\n",
       "      <td>1.141258e+09</td>\n",
       "    </tr>\n",
       "    <tr>\n",
       "      <th>252295</th>\n",
       "      <td>A10X0JN8KTK89H</td>\n",
       "      <td>B00000JKSV</td>\n",
       "      <td>2006-03-01 19:00:00</td>\n",
       "      <td>1.141258e+09</td>\n",
       "    </tr>\n",
       "    <tr>\n",
       "      <th>337497</th>\n",
       "      <td>A10X0JN8KTK89H</td>\n",
       "      <td>B00004RO2M</td>\n",
       "      <td>2006-03-01 19:00:00</td>\n",
       "      <td>1.141258e+09</td>\n",
       "    </tr>\n",
       "    <tr>\n",
       "      <th>468138</th>\n",
       "      <td>A10X0JN8KTK89H</td>\n",
       "      <td>B00005MHNS</td>\n",
       "      <td>2006-03-01 19:00:00</td>\n",
       "      <td>1.141258e+09</td>\n",
       "    </tr>\n",
       "    <tr>\n",
       "      <th>776999</th>\n",
       "      <td>A10X0JN8KTK89H</td>\n",
       "      <td>B00005V9HH</td>\n",
       "      <td>2006-03-01 19:00:00</td>\n",
       "      <td>1.141258e+09</td>\n",
       "    </tr>\n",
       "    <tr>\n",
       "      <th>800754</th>\n",
       "      <td>A10X0JN8KTK89H</td>\n",
       "      <td>B00284BNKC</td>\n",
       "      <td>2006-03-01 19:00:00</td>\n",
       "      <td>1.141258e+09</td>\n",
       "    </tr>\n",
       "    <tr>\n",
       "      <th>926414</th>\n",
       "      <td>A10X0JN8KTK89H</td>\n",
       "      <td>B002BJGYTO</td>\n",
       "      <td>2006-03-03 19:00:00</td>\n",
       "      <td>1.141430e+09</td>\n",
       "    </tr>\n",
       "    <tr>\n",
       "      <th>129118</th>\n",
       "      <td>A10X0JN8KTK89H</td>\n",
       "      <td>B0002NIAZW</td>\n",
       "      <td>2006-03-08 19:00:00</td>\n",
       "      <td>1.141862e+09</td>\n",
       "    </tr>\n",
       "    <tr>\n",
       "      <th>310211</th>\n",
       "      <td>A10X0JN8KTK89H</td>\n",
       "      <td>B001RALGBO</td>\n",
       "      <td>2006-03-08 19:00:00</td>\n",
       "      <td>1.141862e+09</td>\n",
       "    </tr>\n",
       "    <tr>\n",
       "      <th>415717</th>\n",
       "      <td>A10X0JN8KTK89H</td>\n",
       "      <td>B0007QS21G</td>\n",
       "      <td>2006-03-08 19:00:00</td>\n",
       "      <td>1.141862e+09</td>\n",
       "    </tr>\n",
       "    <tr>\n",
       "      <th>493642</th>\n",
       "      <td>A10X0JN8KTK89H</td>\n",
       "      <td>B000VDDWE2</td>\n",
       "      <td>2006-03-08 19:00:00</td>\n",
       "      <td>1.141862e+09</td>\n",
       "    </tr>\n",
       "    <tr>\n",
       "      <th>656493</th>\n",
       "      <td>A10X0JN8KTK89H</td>\n",
       "      <td>B000Q99EAC</td>\n",
       "      <td>2006-12-25 19:00:00</td>\n",
       "      <td>1.167091e+09</td>\n",
       "    </tr>\n",
       "    <tr>\n",
       "      <th>162197</th>\n",
       "      <td>A10X0JN8KTK89H</td>\n",
       "      <td>B00011FXHS</td>\n",
       "      <td>2007-01-30 19:00:00</td>\n",
       "      <td>1.170202e+09</td>\n",
       "    </tr>\n",
       "    <tr>\n",
       "      <th>275050</th>\n",
       "      <td>A10X0JN8KTK89H</td>\n",
       "      <td>B00004RYI6</td>\n",
       "      <td>2007-01-30 19:00:00</td>\n",
       "      <td>1.170202e+09</td>\n",
       "    </tr>\n",
       "    <tr>\n",
       "      <th>672518</th>\n",
       "      <td>A10X0JN8KTK89H</td>\n",
       "      <td>B0010T7R5G</td>\n",
       "      <td>2007-01-30 19:00:00</td>\n",
       "      <td>1.170202e+09</td>\n",
       "    </tr>\n",
       "    <tr>\n",
       "      <th>741118</th>\n",
       "      <td>A10X0JN8KTK89H</td>\n",
       "      <td>B00009ZT9F</td>\n",
       "      <td>2007-01-30 19:00:00</td>\n",
       "      <td>1.170202e+09</td>\n",
       "    </tr>\n",
       "    <tr>\n",
       "      <th>977597</th>\n",
       "      <td>A10X0JN8KTK89H</td>\n",
       "      <td>B00004CXVW</td>\n",
       "      <td>2007-01-30 19:00:00</td>\n",
       "      <td>1.170202e+09</td>\n",
       "    </tr>\n",
       "    <tr>\n",
       "      <th>317964</th>\n",
       "      <td>A10X0JN8KTK89H</td>\n",
       "      <td>B004KJ8G4O</td>\n",
       "      <td>2007-01-31 19:00:00</td>\n",
       "      <td>1.170288e+09</td>\n",
       "    </tr>\n",
       "    <tr>\n",
       "      <th>350985</th>\n",
       "      <td>A10X0JN8KTK89H</td>\n",
       "      <td>B000069I01</td>\n",
       "      <td>2007-01-31 19:00:00</td>\n",
       "      <td>1.170288e+09</td>\n",
       "    </tr>\n",
       "    <tr>\n",
       "      <th>172514</th>\n",
       "      <td>A10X0JN8KTK89H</td>\n",
       "      <td>B003ELMR9E</td>\n",
       "      <td>2007-02-01 19:00:00</td>\n",
       "      <td>1.170374e+09</td>\n",
       "    </tr>\n",
       "    <tr>\n",
       "      <th>2317</th>\n",
       "      <td>A10X0JN8KTK89H</td>\n",
       "      <td>6304286961</td>\n",
       "      <td>2007-02-06 19:00:00</td>\n",
       "      <td>1.170806e+09</td>\n",
       "    </tr>\n",
       "    <tr>\n",
       "      <th>2347</th>\n",
       "      <td>A10X0JN8KTK89H</td>\n",
       "      <td>6304286961</td>\n",
       "      <td>2007-02-06 19:00:00</td>\n",
       "      <td>1.170806e+09</td>\n",
       "    </tr>\n",
       "    <tr>\n",
       "      <th>788574</th>\n",
       "      <td>A10X0JN8KTK89H</td>\n",
       "      <td>B000IHY9UW</td>\n",
       "      <td>2007-02-06 19:00:00</td>\n",
       "      <td>1.170806e+09</td>\n",
       "    </tr>\n",
       "    <tr>\n",
       "      <th>788544</th>\n",
       "      <td>A10X0JN8KTK89H</td>\n",
       "      <td>B000IHY9UW</td>\n",
       "      <td>2007-02-06 19:00:00</td>\n",
       "      <td>1.170806e+09</td>\n",
       "    </tr>\n",
       "    <tr>\n",
       "      <th>918637</th>\n",
       "      <td>A10X0JN8KTK89H</td>\n",
       "      <td>B003IBD1H2</td>\n",
       "      <td>2007-02-12 19:00:00</td>\n",
       "      <td>1.171325e+09</td>\n",
       "    </tr>\n",
       "    <tr>\n",
       "      <th>116520</th>\n",
       "      <td>A10X0JN8KTK89H</td>\n",
       "      <td>B008WAWJNG</td>\n",
       "      <td>2007-02-12 19:00:00</td>\n",
       "      <td>1.171325e+09</td>\n",
       "    </tr>\n",
       "    <tr>\n",
       "      <th>467758</th>\n",
       "      <td>A10X0JN8KTK89H</td>\n",
       "      <td>B000089ARH</td>\n",
       "      <td>2007-06-01 20:00:00</td>\n",
       "      <td>1.180742e+09</td>\n",
       "    </tr>\n",
       "    <tr>\n",
       "      <th>57472</th>\n",
       "      <td>A10X0JN8KTK89H</td>\n",
       "      <td>B001QH32CE</td>\n",
       "      <td>2007-06-16 20:00:00</td>\n",
       "      <td>1.182038e+09</td>\n",
       "    </tr>\n",
       "    <tr>\n",
       "      <th>556159</th>\n",
       "      <td>A10X0JN8KTK89H</td>\n",
       "      <td>B000NJ7HIG</td>\n",
       "      <td>2007-06-24 20:00:00</td>\n",
       "      <td>1.182730e+09</td>\n",
       "    </tr>\n",
       "    <tr>\n",
       "      <th>829281</th>\n",
       "      <td>A10X0JN8KTK89H</td>\n",
       "      <td>B002D40WRC</td>\n",
       "      <td>2007-08-23 20:00:00</td>\n",
       "      <td>1.187914e+09</td>\n",
       "    </tr>\n",
       "    <tr>\n",
       "      <th>106975</th>\n",
       "      <td>A10X0JN8KTK89H</td>\n",
       "      <td>B000MMMTAK</td>\n",
       "      <td>2008-02-23 19:00:00</td>\n",
       "      <td>1.203811e+09</td>\n",
       "    </tr>\n",
       "    <tr>\n",
       "      <th>595494</th>\n",
       "      <td>A10X0JN8KTK89H</td>\n",
       "      <td>B001EBLX5K</td>\n",
       "      <td>2008-02-23 19:00:00</td>\n",
       "      <td>1.203811e+09</td>\n",
       "    </tr>\n",
       "    <tr>\n",
       "      <th>323094</th>\n",
       "      <td>A10X0JN8KTK89H</td>\n",
       "      <td>B000A896J8</td>\n",
       "      <td>2008-07-04 20:00:00</td>\n",
       "      <td>1.215216e+09</td>\n",
       "    </tr>\n",
       "    <tr>\n",
       "      <th>489588</th>\n",
       "      <td>A10X0JN8KTK89H</td>\n",
       "      <td>B000I9YUW2</td>\n",
       "      <td>2008-07-04 20:00:00</td>\n",
       "      <td>1.215216e+09</td>\n",
       "    </tr>\n",
       "    <tr>\n",
       "      <th>726132</th>\n",
       "      <td>A10X0JN8KTK89H</td>\n",
       "      <td>B000FFL2RA</td>\n",
       "      <td>2008-07-04 20:00:00</td>\n",
       "      <td>1.215216e+09</td>\n",
       "    </tr>\n",
       "    <tr>\n",
       "      <th>823635</th>\n",
       "      <td>A10X0JN8KTK89H</td>\n",
       "      <td>B003SI2BNA</td>\n",
       "      <td>2008-07-04 20:00:00</td>\n",
       "      <td>1.215216e+09</td>\n",
       "    </tr>\n",
       "    <tr>\n",
       "      <th>992452</th>\n",
       "      <td>A10X0JN8KTK89H</td>\n",
       "      <td>B006H90TLI</td>\n",
       "      <td>2008-07-10 20:00:00</td>\n",
       "      <td>1.215734e+09</td>\n",
       "    </tr>\n",
       "    <tr>\n",
       "      <th>144319</th>\n",
       "      <td>A10X0JN8KTK89H</td>\n",
       "      <td>B0013AESMM</td>\n",
       "      <td>2008-08-27 20:00:00</td>\n",
       "      <td>1.219882e+09</td>\n",
       "    </tr>\n",
       "    <tr>\n",
       "      <th>642721</th>\n",
       "      <td>A10X0JN8KTK89H</td>\n",
       "      <td>B001O22ELQ</td>\n",
       "      <td>2009-02-05 19:00:00</td>\n",
       "      <td>1.233878e+09</td>\n",
       "    </tr>\n",
       "    <tr>\n",
       "      <th>302419</th>\n",
       "      <td>A10X0JN8KTK89H</td>\n",
       "      <td>B001YB29HG</td>\n",
       "      <td>2009-02-05 19:00:00</td>\n",
       "      <td>1.233878e+09</td>\n",
       "    </tr>\n",
       "    <tr>\n",
       "      <th>484333</th>\n",
       "      <td>A10X0JN8KTK89H</td>\n",
       "      <td>B0025KW29U</td>\n",
       "      <td>2009-02-05 19:00:00</td>\n",
       "      <td>1.233878e+09</td>\n",
       "    </tr>\n",
       "    <tr>\n",
       "      <th>774475</th>\n",
       "      <td>A10X0JN8KTK89H</td>\n",
       "      <td>B0060D0H54</td>\n",
       "      <td>2010-06-29 20:00:00</td>\n",
       "      <td>1.277856e+09</td>\n",
       "    </tr>\n",
       "  </tbody>\n",
       "</table>\n",
       "</div>"
      ],
      "text/plain": [
       "                userid      itemid            timestamp      unixtime\n",
       "38464   A10X0JN8KTK89H  0790701251  2006-03-01 19:00:00  1.141258e+09\n",
       "52826   A10X0JN8KTK89H  6304198493  2006-03-01 19:00:00  1.141258e+09\n",
       "75423   A10X0JN8KTK89H  B000065MQO  2006-03-01 19:00:00  1.141258e+09\n",
       "89056   A10X0JN8KTK89H  B000HOMU98  2006-03-01 19:00:00  1.141258e+09\n",
       "241733  A10X0JN8KTK89H  B00000J2KT  2006-03-01 19:00:00  1.141258e+09\n",
       "252295  A10X0JN8KTK89H  B00000JKSV  2006-03-01 19:00:00  1.141258e+09\n",
       "337497  A10X0JN8KTK89H  B00004RO2M  2006-03-01 19:00:00  1.141258e+09\n",
       "468138  A10X0JN8KTK89H  B00005MHNS  2006-03-01 19:00:00  1.141258e+09\n",
       "776999  A10X0JN8KTK89H  B00005V9HH  2006-03-01 19:00:00  1.141258e+09\n",
       "800754  A10X0JN8KTK89H  B00284BNKC  2006-03-01 19:00:00  1.141258e+09\n",
       "926414  A10X0JN8KTK89H  B002BJGYTO  2006-03-03 19:00:00  1.141430e+09\n",
       "129118  A10X0JN8KTK89H  B0002NIAZW  2006-03-08 19:00:00  1.141862e+09\n",
       "310211  A10X0JN8KTK89H  B001RALGBO  2006-03-08 19:00:00  1.141862e+09\n",
       "415717  A10X0JN8KTK89H  B0007QS21G  2006-03-08 19:00:00  1.141862e+09\n",
       "493642  A10X0JN8KTK89H  B000VDDWE2  2006-03-08 19:00:00  1.141862e+09\n",
       "656493  A10X0JN8KTK89H  B000Q99EAC  2006-12-25 19:00:00  1.167091e+09\n",
       "162197  A10X0JN8KTK89H  B00011FXHS  2007-01-30 19:00:00  1.170202e+09\n",
       "275050  A10X0JN8KTK89H  B00004RYI6  2007-01-30 19:00:00  1.170202e+09\n",
       "672518  A10X0JN8KTK89H  B0010T7R5G  2007-01-30 19:00:00  1.170202e+09\n",
       "741118  A10X0JN8KTK89H  B00009ZT9F  2007-01-30 19:00:00  1.170202e+09\n",
       "977597  A10X0JN8KTK89H  B00004CXVW  2007-01-30 19:00:00  1.170202e+09\n",
       "317964  A10X0JN8KTK89H  B004KJ8G4O  2007-01-31 19:00:00  1.170288e+09\n",
       "350985  A10X0JN8KTK89H  B000069I01  2007-01-31 19:00:00  1.170288e+09\n",
       "172514  A10X0JN8KTK89H  B003ELMR9E  2007-02-01 19:00:00  1.170374e+09\n",
       "2317    A10X0JN8KTK89H  6304286961  2007-02-06 19:00:00  1.170806e+09\n",
       "2347    A10X0JN8KTK89H  6304286961  2007-02-06 19:00:00  1.170806e+09\n",
       "788574  A10X0JN8KTK89H  B000IHY9UW  2007-02-06 19:00:00  1.170806e+09\n",
       "788544  A10X0JN8KTK89H  B000IHY9UW  2007-02-06 19:00:00  1.170806e+09\n",
       "918637  A10X0JN8KTK89H  B003IBD1H2  2007-02-12 19:00:00  1.171325e+09\n",
       "116520  A10X0JN8KTK89H  B008WAWJNG  2007-02-12 19:00:00  1.171325e+09\n",
       "467758  A10X0JN8KTK89H  B000089ARH  2007-06-01 20:00:00  1.180742e+09\n",
       "57472   A10X0JN8KTK89H  B001QH32CE  2007-06-16 20:00:00  1.182038e+09\n",
       "556159  A10X0JN8KTK89H  B000NJ7HIG  2007-06-24 20:00:00  1.182730e+09\n",
       "829281  A10X0JN8KTK89H  B002D40WRC  2007-08-23 20:00:00  1.187914e+09\n",
       "106975  A10X0JN8KTK89H  B000MMMTAK  2008-02-23 19:00:00  1.203811e+09\n",
       "595494  A10X0JN8KTK89H  B001EBLX5K  2008-02-23 19:00:00  1.203811e+09\n",
       "323094  A10X0JN8KTK89H  B000A896J8  2008-07-04 20:00:00  1.215216e+09\n",
       "489588  A10X0JN8KTK89H  B000I9YUW2  2008-07-04 20:00:00  1.215216e+09\n",
       "726132  A10X0JN8KTK89H  B000FFL2RA  2008-07-04 20:00:00  1.215216e+09\n",
       "823635  A10X0JN8KTK89H  B003SI2BNA  2008-07-04 20:00:00  1.215216e+09\n",
       "992452  A10X0JN8KTK89H  B006H90TLI  2008-07-10 20:00:00  1.215734e+09\n",
       "144319  A10X0JN8KTK89H  B0013AESMM  2008-08-27 20:00:00  1.219882e+09\n",
       "642721  A10X0JN8KTK89H  B001O22ELQ  2009-02-05 19:00:00  1.233878e+09\n",
       "302419  A10X0JN8KTK89H  B001YB29HG  2009-02-05 19:00:00  1.233878e+09\n",
       "484333  A10X0JN8KTK89H  B0025KW29U  2009-02-05 19:00:00  1.233878e+09\n",
       "774475  A10X0JN8KTK89H  B0060D0H54  2010-06-29 20:00:00  1.277856e+09"
      ]
     },
     "execution_count": 108,
     "metadata": {},
     "output_type": "execute_result"
    }
   ],
   "source": [
    "sorted_df[sorted_df.userid==\"A13RM1AWD1C5ZR\"]"
   ]
  },
  {
   "cell_type": "code",
   "execution_count": 112,
   "metadata": {},
   "outputs": [
    {
     "data": {
      "text/plain": [
       "['B001QWQJ4M',\n",
       " 'B000GW8OAK',\n",
       " 'B0000AMJEJ',\n",
       " 'B0018BOAD8',\n",
       " 'B000171RCC',\n",
       " 'B0000SX9N2',\n",
       " 'B002R1W5VW',\n",
       " 'B0000AGQ6T',\n",
       " 'B001M9ELP8',\n",
       " 'B0000UI2NM',\n",
       " 'B00020JQ76',\n",
       " 'B001VPJZNQ',\n",
       " 'B0000VAFO0',\n",
       " 'B0001KU90U',\n",
       " 'B0001JXOUS',\n",
       " 'B0001G6PZC',\n",
       " 'B0001NBNF2',\n",
       " 'B000O76T7C',\n",
       " 'B000BZIT20',\n",
       " 'B00000F8CT',\n",
       " 'B000260QGK',\n",
       " '6304618344',\n",
       " 'B00004Z1M1',\n",
       " 'B00005KG45',\n",
       " 'B00004VYPW',\n",
       " 'B007NRBMZU',\n",
       " '630395345X',\n",
       " '6303953425',\n",
       " 'B001AQT0Z4',\n",
       " '1558908242',\n",
       " 'B0027WNRVI',\n",
       " 'B000VDDWE2',\n",
       " 'B0007QS21G',\n",
       " 'B001RALGBO',\n",
       " 'B0002NIAZW',\n",
       " 'B0002KVUMK',\n",
       " 'B0002KVUMU',\n",
       " 'B0002VEUTO',\n",
       " 'B0002VEUTY',\n",
       " 'B005ZC1R6O']"
      ]
     },
     "execution_count": 112,
     "metadata": {},
     "output_type": "execute_result"
    }
   ],
   "source": [
    "sorted_df[sorted_df.userid==\"A13RM1AWD1C5ZR\"].itemid.tolist()"
   ]
  },
  {
   "cell_type": "code",
   "execution_count": null,
   "metadata": {},
   "outputs": [],
   "source": []
  }
 ],
 "metadata": {
  "kernelspec": {
   "display_name": "Python 3",
   "language": "python",
   "name": "python3"
  },
  "language_info": {
   "codemirror_mode": {
    "name": "ipython",
    "version": 3
   },
   "file_extension": ".py",
   "mimetype": "text/x-python",
   "name": "python",
   "nbconvert_exporter": "python",
   "pygments_lexer": "ipython3",
   "version": "3.7.3"
  }
 },
 "nbformat": 4,
 "nbformat_minor": 2
}
